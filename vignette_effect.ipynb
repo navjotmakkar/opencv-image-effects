{
 "cells": [
  {
   "cell_type": "code",
   "execution_count": 9,
   "metadata": {},
   "outputs": [],
   "source": [
    "import cv2\n",
    "import numpy as np"
   ]
  },
  {
   "cell_type": "code",
   "execution_count": 10,
   "metadata": {},
   "outputs": [],
   "source": [
    "def varRadius(value):\n",
    "    global radius\n",
    "    radius = value"
   ]
  },
  {
   "cell_type": "code",
   "execution_count": 11,
   "metadata": {},
   "outputs": [],
   "source": [
    "def varFocus(scope):\n",
    "    global value\n",
    "    value = scope"
   ]
  },
  {
   "cell_type": "code",
   "execution_count": 12,
   "metadata": {},
   "outputs": [],
   "source": [
    "img = cv2.imread('images (46).jpg')\n",
    "img = cv2.resize(img, (500, 500))\n",
    "rows, cols = img.shape[:2]\n",
    "value = 1\n",
    "radius = 130\n",
    "mask = np.zeros((int(rows*(value*0.1+1)),int(cols*(value*0.1+1))))"
   ]
  },
  {
   "cell_type": "code",
   "execution_count": 13,
   "metadata": {},
   "outputs": [],
   "source": [
    "cv2.namedWindow('Trackbars')\n",
    "cv2.createTrackbar('Radius', 'Trackbars', 150, 300, varRadius)\n",
    "cv2.createTrackbar('Focus', 'Trackbars', 0, 10, varFocus)"
   ]
  },
  {
   "cell_type": "code",
   "execution_count": 14,
   "metadata": {},
   "outputs": [],
   "source": [
    "while(True):\n",
    "    kernel_x = cv2.getGaussianKernel(int(cols*(0.1*value+1)),radius)\n",
    "    kernel_y = cv2.getGaussianKernel(int(rows*(0.1*value+1)),radius)\n",
    "    kernel = kernel_y * kernel_x.T\n",
    "\n",
    "    kernel = kernel/np.linalg.norm(kernel)\n",
    "\n",
    "    mask = 255 * kernel\n",
    "    output = np.copy(img)\n",
    "\n",
    "    mask_imposed = mask[int(0.1*value*rows):,int(0.1*value*cols):]\n",
    "    for i in range(3):\n",
    "        output[:,:,i] = output[:,:,i] * mask_imposed\n",
    "    cv2.imshow('Original', img)\n",
    "    cv2.imshow('Vignette', output)\n",
    "    key = cv2.waitKey(50)\n",
    "    \n",
    "    if(key==ord('q')):\n",
    "        break"
   ]
  },
  {
   "cell_type": "code",
   "execution_count": 15,
   "metadata": {},
   "outputs": [],
   "source": [
    "#displaying the orignal image   \n",
    "cv2.imshow('Original', img)\n",
    "    \n",
    "#displaying the vignette filter image \n",
    "cv2.imshow('VIGNETTE', output)\n",
    "\n",
    "cv2.waitKey(0)\n",
    "\n",
    "cv2.destroyAllWindows() "
   ]
  },
  {
   "cell_type": "code",
   "execution_count": null,
   "metadata": {},
   "outputs": [],
   "source": []
  }
 ],
 "metadata": {
  "kernelspec": {
   "display_name": "Python 3",
   "language": "python",
   "name": "python3"
  },
  "language_info": {
   "codemirror_mode": {
    "name": "ipython",
    "version": 3
   },
   "file_extension": ".py",
   "mimetype": "text/x-python",
   "name": "python",
   "nbconvert_exporter": "python",
   "pygments_lexer": "ipython3",
   "version": "3.6.9"
  }
 },
 "nbformat": 4,
 "nbformat_minor": 4
}
